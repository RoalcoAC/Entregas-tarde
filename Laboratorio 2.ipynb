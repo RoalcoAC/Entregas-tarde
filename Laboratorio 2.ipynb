{
 "cells": [
  {
   "cell_type": "markdown",
   "id": "ab921bf8",
   "metadata": {},
   "source": [
    "## Universidad Galileo\n",
    "### Ciencia de Datos en Python\n",
    "#### Roberto Aldana \n",
    "#### 19000785\n",
    "\n",
    "# Laboratorio 2\n",
    "\n",
    "## **Introducción**\n",
    "\n",
    "### Python es un lenguaje de programación de alto nivel, interpretado y de propósito general que se utiliza para  una amplia variedad de aplicaciones. Es popular debido a su sintaxis clara y fácil de entender, lo que lo hace ideal para principiantes y expertos por igual. Python se utiliza en una amplia variedad de áreas, incluyendo la ciencia de datos, la inteligencia artificial, la automatización de tareas, el desarrollo web, la informática en la nube, la robótica, la seguridad cibernética y muchos otros campos. Debido a su popularidad y flexibilidad, existen numerosas bibliotecas y marcos disponibles en Python que hacen que el desarrollo de aplicaciones sea mucho más fácil y rápido.\n",
    "\n",
    "## Ejercicio 1\n",
    "#### Haga un programa en Python que reciba de parametro un numero de segundos y que despliegue en pantalla, las horas, minutos y segundos que representan. Por ejemplo:\n",
    "#### Si el numero de segundos recibidos fuera: 2743 entonces su programa deber´ıa desplegar:\n",
    "#### Horas: 0, Minutos: 45 , Segundos: 43\n",
    "#### Si el nu´mero de segundos recibidos fuera 5871: Horas: 1, Minutos: 37 , Segundos: 51"
   ]
  },
  {
   "cell_type": "code",
   "execution_count": 12,
   "id": "78282dd7",
   "metadata": {},
   "outputs": [
    {
     "name": "stdout",
     "output_type": "stream",
     "text": [
      "2 horas, 30 minutos, 0 segundos\n"
     ]
    }
   ],
   "source": [
    "def convertir_segundos(int):\n",
    "    segundos=int\n",
    "    horas = segundos // 3600\n",
    "    minutos = (segundos % 3600) // 60\n",
    "    segundos = (segundos % 3600) % 60\n",
    "    \n",
    "    print(f\"{horas} horas, {minutos} minutos, {segundos} segundos\")\n",
    "    \n",
    "convertir_segundos(9000)\n"
   ]
  },
  {
   "cell_type": "markdown",
   "id": "9d3349d9",
   "metadata": {},
   "source": [
    "## Ejercicio 2\n",
    "#### Haga una funcion en Python que dado un nu´mero entre 1 y 20. Y un caracter cualquiera\n",
    "#### despliegue cuatro patrones triangulares."
   ]
  },
  {
   "cell_type": "code",
   "execution_count": null,
   "id": "c0557000",
   "metadata": {},
   "outputs": [],
   "source": [
    "def imprimir_patrones(num, caracter):\n",
    "    for i in range(1, num+1):\n",
    "        print(caracter * i)\n",
    "        \n",
    "    for i in range(num-1, 0, -1):\n",
    "        print(caracter * i)\n",
    "        \n",
    "    for i in range(num, 0, -1):\n",
    "        print(\" \"*(num-i) + caracter*i)\n",
    "        \n",
    "    for i in range(1, num+1):\n",
    "        print(\" \"*(num-i) + caracter*i)\n",
    "\n",
    "# Ejemplo de uso\n",
    "imprimir_patrones(20, \"*\")\n"
   ]
  },
  {
   "cell_type": "markdown",
   "id": "00358bc9",
   "metadata": {},
   "source": [
    "## Ejercicio 3\n",
    "#### Haga un programa en Python que la fecha de nacimiento de una persona (puede ingresar por\n",
    "#### separado cada valor, es decir pedir primero dıa, luego mes y luego año), despliegue la edad\n",
    "#### de la persona en años, meses y d´ıas. Su resultado puede ser aproximado."
   ]
  },
  {
   "cell_type": "code",
   "execution_count": null,
   "id": "40f8a044",
   "metadata": {},
   "outputs": [],
   "source": [
    "from datetime import date\n",
    "\n",
    "def calcular_edad(dia, mes, anio):\n",
    "    hoy = date.today()\n",
    "    nacimiento = date(anio, mes, dia)\n",
    "    edad = hoy.year - nacimiento.year - ((hoy.month, hoy.day) < (nacimiento.month, nacimiento.day))\n",
    "    meses = hoy.month - nacimiento.month\n",
    "    if hoy.day < nacimiento.day:\n",
    "        meses -= 1\n",
    "    dias = hoy.day - nacimiento.day\n",
    "    if dias < 0:\n",
    "        ultimo_mes = hoy.replace(month=hoy.month-1 if hoy.month > 1 else 12)\n",
    "        dias += (ultimo_mes - nacimiento).days\n",
    "    return edad, meses, dias\n",
    "\n",
    "# Ejemplo de uso\n",
    "dia = 12\n",
    "mes = 6\n",
    "anio = 1990\n",
    "edad, meses, dias = calcular_edad(dia, mes, anio)\n",
    "print(f\"Tienes {edad} años, {meses} meses y {dias} días.\")"
   ]
  },
  {
   "cell_type": "markdown",
   "id": "c9e9c2f4",
   "metadata": {},
   "source": [
    "# Ejercicio 4\n",
    "#### Escriba una funcion en Python que dada una tupla de elementos (numeros o letras) esta se\n",
    "#### convierta a un string."
   ]
  },
  {
   "cell_type": "code",
   "execution_count": 14,
   "id": "4da29fb8",
   "metadata": {},
   "outputs": [
    {
     "name": "stdout",
     "output_type": "stream",
     "text": [
      "12ab3\n"
     ]
    }
   ],
   "source": [
    "def tupla_a_string(tupla):\n",
    "    string = ''.join(map(str, tupla))\n",
    "    return string\n",
    "\n",
    "# Ejemplo de uso\n",
    "mi_tupla = (1, 2, 'a', 'b', 3)\n",
    "mi_string = tupla_a_string(mi_tupla)\n",
    "print(mi_string)"
   ]
  },
  {
   "cell_type": "markdown",
   "id": "21ea14a7",
   "metadata": {},
   "source": [
    "# Ejercicio 5\n",
    "#### Cree un programa en Python que dada una lista de tuplas, elimine las tuplas que est´an vac´ıas."
   ]
  },
  {
   "cell_type": "code",
   "execution_count": 15,
   "id": "8b39cc85",
   "metadata": {},
   "outputs": [
    {
     "name": "stdout",
     "output_type": "stream",
     "text": [
      "[(1, 2, 3), ('a', '', 'c'), (4, '', 6)]\n"
     ]
    }
   ],
   "source": [
    "def eliminar_tuplas_vacias(lista_tuplas):\n",
    "    return [tupla for tupla in lista_tuplas if any(tupla)]\n",
    "\n",
    "# Ejemplo de uso\n",
    "mi_lista = [(1, 2, 3), ('a', '', 'c'), (), (4, '', 6)]\n",
    "mi_lista_sin_vacias = eliminar_tuplas_vacias(mi_lista)\n",
    "print(mi_lista_sin_vacias)\n"
   ]
  },
  {
   "cell_type": "markdown",
   "id": "93f55ad1",
   "metadata": {},
   "source": [
    "# Ejercicio 6\n",
    "#### Cree una funcion en Python que dada una tupla de tuplas con nu´meros, produzca una tupla\n",
    "#### con el promedio de cada tupla individual."
   ]
  },
  {
   "cell_type": "code",
   "execution_count": null,
   "id": "72ceeedf",
   "metadata": {},
   "outputs": [],
   "source": [
    "def promedio_tuplas(tupla_tuplas):\n",
    "    promedios = tuple(sum(tupla)/len(tupla) for tupla in tupla_tuplas)\n",
    "    return promedios\n",
    "\n",
    "# Ejemplo de uso\n",
    "mi_tupla = ((1, 2, 3), (4, 5, 6), (7, 8, 9))\n",
    "promedios = promedio_tuplas(mi_tupla)\n",
    "print(promedios)\n"
   ]
  },
  {
   "cell_type": "markdown",
   "id": "263d8822",
   "metadata": {},
   "source": [
    "# Ejercicio 7\n",
    "#### Escribir un programa que gestione las facturas pendientes de cobro de una empresa. Las\n",
    "#### facturas se almacenar´an en un diccionario donde la llave de cada factura sera el numero de\n",
    "#### factura (debe utilizar un numero de 4 dıgitos) y el valor el coste de la factura. El programa\n",
    "#### debe preguntar al usuario si quiere añadir una nueva factura, pagar una existente o terminar.\n",
    "#### Si desea añadir una nueva factura se preguntara por el numero de factura y su coste y se\n",
    "#### añadira al diccionario, para confirmar que la factura se ingreso correctamente el programa\n",
    "#### debe desplegar el diccionario completo. Si se desea pagar una factura se preguntara por el\n",
    "#### numero de factura y se eliminara del diccionario. Despues de cada operacion el programa\n",
    "#### debe mostrar en pantalla la cantidad cobrada hasta el momento y la cantidad pendiente de\n",
    "#### cobro. Puede utilizar otras estructuras de datos como apoyo si lo considera necesario."
   ]
  },
  {
   "cell_type": "code",
   "execution_count": null,
   "id": "1f37e2bb",
   "metadata": {},
   "outputs": [
    {
     "name": "stdout",
     "output_type": "stream",
     "text": [
      "¿Qué desea hacer?\n",
      "1. Añadir una nueva factura\n",
      "2. Pagar una factura existente\n",
      "3. Terminar\n",
      "Opción: 1\n",
      "Ingrese el número de factura (4 dígitos): 4444\n",
      "Ingrese el valor de la factura: 4444\n",
      "Factura añadida: {'4444': 4444.0}\n",
      "Total cobrado: 4444.0\n",
      "Total pendiente: 4444.0\n",
      "\n",
      "\n",
      "¿Qué desea hacer?\n",
      "1. Añadir una nueva factura\n",
      "2. Pagar una factura existente\n",
      "3. Terminar\n",
      "Opción: 2\n",
      "Ingrese el número de factura a pagar: 4444\n",
      "Factura pagada: 4444 4444.0\n",
      "Total cobrado: 0\n",
      "Total pendiente: 0\n",
      "\n",
      "\n",
      "¿Qué desea hacer?\n",
      "1. Añadir una nueva factura\n",
      "2. Pagar una factura existente\n",
      "3. Terminar\n",
      "Opción: 4444\n",
      "Opción no válida\n",
      "\n",
      "\n",
      "¿Qué desea hacer?\n",
      "1. Añadir una nueva factura\n",
      "2. Pagar una factura existente\n",
      "3. Terminar\n",
      "Opción: 444\n",
      "Opción no válida\n",
      "\n",
      "\n",
      "¿Qué desea hacer?\n",
      "1. Añadir una nueva factura\n",
      "2. Pagar una factura existente\n",
      "3. Terminar\n"
     ]
    }
   ],
   "source": [
    "facturas = {}\n",
    "\n",
    "def mostrar_estado_cuenta():\n",
    "    total_cobrado = sum(facturas.values())\n",
    "    total_pendiente = 0\n",
    "    for factura, valor in facturas.items():\n",
    "        total_pendiente += valor\n",
    "    print(\"Total cobrado:\", total_cobrado)\n",
    "    print(\"Total pendiente:\", total_pendiente)\n",
    "\n",
    "while True:\n",
    "    print(\"¿Qué desea hacer?\")\n",
    "    print(\"1. Añadir una nueva factura\")\n",
    "    print(\"2. Pagar una factura existente\")\n",
    "    print(\"3. Terminar\")\n",
    "    opcion = int(input(\"Opción: \"))\n",
    "    \n",
    "    if opcion == 1:\n",
    "        num_factura = input(\"Ingrese el número de factura (4 dígitos): \")\n",
    "        valor_factura = float(input(\"Ingrese el valor de la factura: \"))\n",
    "        facturas[num_factura] = valor_factura\n",
    "        print(\"Factura añadida:\", facturas)\n",
    "        mostrar_estado_cuenta()\n",
    "        \n",
    "    elif opcion == 2:\n",
    "        num_factura = input(\"Ingrese el número de factura a pagar: \")\n",
    "        if num_factura in facturas:\n",
    "            valor_factura = facturas.pop(num_factura)\n",
    "            print(\"Factura pagada:\", num_factura, valor_factura)\n",
    "            mostrar_estado_cuenta()\n",
    "        else:\n",
    "            print(\"No se encontró la factura\", num_factura)\n",
    "    \n",
    "    elif opcion == 3:\n",
    "        break\n",
    "    \n",
    "    else:\n",
    "        print(\"Opción no válida\")\n",
    "    \n",
    "    print(\"\\n\")\n"
   ]
  },
  {
   "cell_type": "markdown",
   "id": "83798c6e",
   "metadata": {},
   "source": [
    "# Ejercicio 8\n",
    "#### Haga una funcion en Python, que cree un set con todas las cartas de una baraja de Pocker utilizando el siguiente formato: Tipo-#### Numero. Utilice las letras T para treboles, C para\n",
    "#### corazones, P para picas y E para espadas. Para los numeros utilice la numeracion del 1 al\n",
    "#### 13. Por ejemplo E13 - serıa Rey de Espadas, P01 serıa As de Picas, T05 serıa cinco de Treboles.\n",
    "#### Posteriormente cree una funcion que dado el conjunto anterior cree dos sets nuevos de cartas,\n",
    "#### cada conjunto debe tener una cantidad variable de elementos, puede utilizar numeros aleatorios enteros para definir la longitud de los conjuntos.\n",
    "#### Adicionalmente, debera calcular la probabilidad de la interseccion de ambos conjuntos y demuestre si son eventos independientes con la regla del producto.\n",
    "#### Para concluir, calcule probabilidad de la uni´on de ambos conjuntos y demuestre que se cumple\n",
    "#### la regla de la adicion."
   ]
  },
  {
   "cell_type": "code",
   "execution_count": null,
   "id": "4965f6d4",
   "metadata": {},
   "outputs": [],
   "source": [
    "def crear_baraja():\n",
    "    tipos = ['T', 'C', 'P', 'E']\n",
    "    numeros = ['01', '02', '03', '04', '05', '06', '07', '08', '09', '10', '11', '12', '13']\n",
    "    baraja = set()\n",
    "    for tipo in tipos:\n",
    "        for numero in numeros:\n",
    "            carta = tipo + numero\n",
    "            baraja.add(carta)\n",
    "    return baraja\n",
    "import random\n",
    "\n",
    "def crear_conjuntos(baraja):\n",
    "    conjunto1 = set(random.sample(baraja, k=10))\n",
    "    conjunto2 = set(random.sample(baraja, k=15))\n",
    "    interseccion = conjunto1.intersection(conjunto2)\n",
    "    probabilidad_interseccion = len(interseccion) / len(baraja)\n",
    "    return conjunto1, conjunto2, probabilidad_interseccion\n",
    "def eventos_independientes(baraja, conjunto1, conjunto2, probabilidad_interseccion):\n",
    "    probabilidad_conjunto1 = len(conjunto1) / len(baraja)\n",
    "    probabilidad_conjunto2 = len(conjunto2) / len(baraja)\n",
    "    probabilidad_productoria = probabilidad_conjunto1 * probabilidad_conjunto2\n",
    "    eventos_independientes = abs(probabilidad_interseccion - probabilidad_productoria) < 0.0001\n",
    "    return eventos_independientes\n",
    "def regla_de_la_adicion(baraja, conjunto1, conjunto2, probabilidad_interseccion):\n",
    "    union = conjunto1.union(conjunto2)\n",
    "    probabilidad_union = len(union) / len(baraja)\n",
    "    probabilidad_conjunto1 = len(conjunto1) / len(baraja)\n",
    "    probabilidad_conjunto2 = len(conjunto2) / len(baraja)\n",
    "    regla_de_la_adicion = abs(probabilidad_union - (probabilidad_conjunto1 + probabilidad_conjunto2 - probabilidad_interseccion)) < 0.0001\n",
    "    return probabilidad_union, regla_de_la_adicion\n"
   ]
  }
 ],
 "metadata": {
  "kernelspec": {
   "display_name": "Python 3 (ipykernel)",
   "language": "python",
   "name": "python3"
  },
  "language_info": {
   "codemirror_mode": {
    "name": "ipython",
    "version": 3
   },
   "file_extension": ".py",
   "mimetype": "text/x-python",
   "name": "python",
   "nbconvert_exporter": "python",
   "pygments_lexer": "ipython3",
   "version": "3.9.13"
  }
 },
 "nbformat": 4,
 "nbformat_minor": 5
}
