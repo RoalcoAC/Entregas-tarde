{
 "cells": [
  {
   "cell_type": "markdown",
   "id": "162aa326",
   "metadata": {},
   "source": [
    "## Universidad Galileo\n",
    "### Ciencia de Datos en Python\n",
    "#### Roberto Aldana \n",
    "#### 19000785\n",
    "\n",
    "# Laboratorio 1\n",
    "\n",
    "## **Introducción**\n",
    "\n",
    "### Tanto Markdown como Git son herramientas fundamentales en la programación y en la gestión de proyectos. Mientras que Markdown permite a los usuarios crear documentos con formato de manera fácil y sencilla, Git permite a los programadores colaborar en proyectos de software y mantener un historial completo de los cambios realizados. Ambas herramientas son muy versátiles y se pueden utilizar en una amplia variedad de aplicaciones. En conjunto, estas herramientas pueden ser utilizadas para crear y colaborar en proyectos de software de una manera organizada y eficiente. Con Markdown, los usuarios pueden crear documentación de proyectos clara y concisa, mientras que con Git, los programadores pueden colaborar en la codificación del proyecto sin temor a sobrescribir los cambios realizados por otros miembros del equipo. Juntas, estas herramientas pueden ayudar a que el desarrollo de software sea más fluido y colaborativo.\n",
    "\n",
    "## Objetivos\n",
    "\n",
    "+ **Utilizar Markdown para crear documentos y notas con formato y estilo de manera sencilla y fácil. El objetivo principal podría ser la creación de documentación clara y ordenada para proyectos de software, la elaboración de notas para presentaciones y conferencias, o la creación de documentos académicos y científicos.**\n",
    "\n",
    "+ **Utilizar Jupyter Notebook para combinar código, texto y visualizaciones en un solo documento. El objetivo principal podría ser la creación de presentaciones y demostraciones interactivas, la elaboración de informes y análisis de datos, o la colaboración en proyectos de software.**\n",
    "\n",
    "+ **Utilizar Git para la gestión de proyectos de software y el trabajo colaborativo en equipo. El objetivo principal podría ser mantener un historial completo y detallado de los cambios realizados en el código, colaborar de manera eficiente y organizada con otros desarrolladores, y compartir y sincronizar el trabajo de forma segura y eficiente.**\n",
    "\n",
    "## **Ensayo**\n",
    "\n",
    "### Markdown es un lenguaje de marcado ligero que permite a los usuarios crear documentos con formato utilizando una sintaxis sencilla y fácil de aprender. El objetivo de Markdown es permitir a los usuarios concentrarse en el contenido de un documento en lugar del formato, ya que la sintaxis es lo suficientemente simple como para que incluso los usuarios sin conocimientos de programación puedan crear documentos con formato. Además, Markdown es muy versátil y se puede utilizar en una amplia gama de aplicaciones, incluyendo la creación de documentos de texto plano, documentos técnicos, correos electrónicos, blogs y mucho más.\n",
    "\n",
    "### Una de las ventajas de Markdown es que se puede usar con cualquier editor de texto, lo que lo hace fácil de usar en cualquier plataforma. Markdown también se integra con muchos otros sistemas, incluyendo GitHub, Jupyter Notebook, y muchos otros, lo que lo convierte en una herramienta muy útil para los desarrolladores y los usuarios técnicos.\n",
    "\n",
    "### Por otro lado, Git es un sistema de control de versiones que permite a los programadores trabajar en proyectos de software de manera colaborativa. Git es una herramienta de código abierto que fue creada por Linus Torvalds en 2005 y se ha convertido en una herramienta esencial en el desarrollo de software moderno. Git permite a los programadores trabajar juntos en el mismo proyecto sin sobrescribir los cambios realizados por otros miembros del equipo. Además, Git ofrece un historial completo de los cambios realizados en un proyecto, lo que permite a los desarrolladores volver a versiones anteriores y comparar diferentes versiones del código.\n",
    "\n",
    "### Git utiliza un sistema de ramas para permitir a los programadores trabajar en diferentes partes del proyecto de forma independiente. Cada rama es una copia del código principal del proyecto y permite a los programadores realizar cambios sin afectar el código principal. Cuando se completa una nueva función o una corrección de errores, los cambios se pueden fusionar de vuelta al código principal del proyecto. Esto ayuda a reducir el riesgo de conflictos y a mantener el proyecto organizado.\n"
   ]
  },
  {
   "cell_type": "markdown",
   "id": "7e81fb97",
   "metadata": {},
   "source": [
    "# Ejemplo\n",
    "### Navega hasta el directorio donde se encuentra el archivo que deseas subir"
   ]
  },
  {
   "cell_type": "code",
   "execution_count": null,
   "id": "93f9c7a9",
   "metadata": {},
   "outputs": [],
   "source": [
    "cd Laboratorios-Python"
   ]
  },
  {
   "cell_type": "markdown",
   "id": "59043dc9",
   "metadata": {},
   "source": [
    "### Inicializa el repositorio Git"
   ]
  },
  {
   "cell_type": "code",
   "execution_count": null,
   "id": "0a7afa3b",
   "metadata": {},
   "outputs": [],
   "source": [
    "git init"
   ]
  },
  {
   "cell_type": "markdown",
   "id": "109a7fd4",
   "metadata": {},
   "source": [
    "### Agrega el archivo a tu repositorio local"
   ]
  },
  {
   "cell_type": "code",
   "execution_count": null,
   "id": "230c06d5",
   "metadata": {},
   "outputs": [],
   "source": [
    "git add Laboratorio-1"
   ]
  },
  {
   "cell_type": "markdown",
   "id": "0589c49c",
   "metadata": {},
   "source": [
    "### Confirma los cambios y agrega un mensaje de confirmación"
   ]
  },
  {
   "cell_type": "code",
   "execution_count": null,
   "id": "d705cab8",
   "metadata": {},
   "outputs": [],
   "source": [
    "git commit -m \"Agregado archivo nombre_del_archivo\""
   ]
  },
  {
   "cell_type": "markdown",
   "id": "49181cce",
   "metadata": {},
   "source": [
    "### Agrega la URL de tu repositorio remoto a tu repositorio local"
   ]
  },
  {
   "cell_type": "code",
   "execution_count": null,
   "id": "5bcff744",
   "metadata": {},
   "outputs": [],
   "source": [
    "git remote add origin URL_del_repositorio_remoto"
   ]
  },
  {
   "cell_type": "markdown",
   "id": "a4174fa2",
   "metadata": {},
   "source": [
    "### Sube los cambios a tu repositorio remoto en Git"
   ]
  },
  {
   "cell_type": "code",
   "execution_count": null,
   "id": "bc373dcf",
   "metadata": {},
   "outputs": [],
   "source": [
    "git push"
   ]
  },
  {
   "cell_type": "markdown",
   "id": "02213306",
   "metadata": {},
   "source": [
    "# Conclusiones\n",
    "+ Markdown es una herramienta muy útil para la creación de documentos y notas, especialmente en el campo de la programación y el desarrollo de software. Su sintaxis simple y fácil de usar permite a los programadores crear documentos con formato y estilo sin tener que preocuparse por la complejidad del HTML.\n",
    "+ Jupyter Notebook es una herramienta poderosa y popular entre los científicos de datos y los programadores, gracias a su capacidad para combinar código ejecutable, texto explicativo y visualizaciones en un solo documento. Es una herramienta muy versátil que permite a los usuarios colaborar en proyectos y compartir resultados fácilmente.\n",
    "+ Git es una herramienta fundamental para la gestión de proyectos de software y para el trabajo colaborativo en equipo. Permite a los programadores mantener un historial completo de los cambios realizados en el código, colaborar en proyectos de software y compartir y sincronizar el trabajo de forma segura. Además, Git es una herramienta muy flexible y se puede integrar con una amplia variedad de herramientas y plataformas de desarrollo."
   ]
  },
  {
   "cell_type": "code",
   "execution_count": null,
   "id": "d2f4a7df",
   "metadata": {},
   "outputs": [],
   "source": []
  }
 ],
 "metadata": {
  "kernelspec": {
   "display_name": "Python 3 (ipykernel)",
   "language": "python",
   "name": "python3"
  },
  "language_info": {
   "codemirror_mode": {
    "name": "ipython",
    "version": 3
   },
   "file_extension": ".py",
   "mimetype": "text/x-python",
   "name": "python",
   "nbconvert_exporter": "python",
   "pygments_lexer": "ipython3",
   "version": "3.9.13"
  }
 },
 "nbformat": 4,
 "nbformat_minor": 5
}
